{
 "cells": [
  {
   "cell_type": "markdown",
   "metadata": {
    "id": "jpTRwk_sEJOk"
   },
   "source": [
    "<a href=\"https://colab.research.google.com/github/andres-merino/AprendizajeAutomaticoInicial-05-N0105/blob/main/2-Ejercicios/10-Optimizacion-Hiperparametros.ipynb\" target=\"_parent\"><img src=\"https://colab.research.google.com/assets/colab-badge.svg\" alt=\"Open In Colab\"/></a>"
   ]
  },
  {
   "cell_type": "markdown",
   "metadata": {
    "id": "i2kpXyEXEJOs"
   },
   "source": [
    "<table style=\"border: none; border-collapse: collapse;\">\n",
    "    <tr>\n",
    "        <td style=\"width: 20%; vertical-align: middle; padding-right: 10px;\">\n",
    "            <img src=\"https://i.imgur.com/nt7hloA.png\" width=\"100\">\n",
    "        </td>\n",
    "        <td style=\"width: 2px; text-align: center;\">\n",
    "            <font color=\"#0030A1\" size=\"7\">|</font><br>\n",
    "            <font color=\"#0030A1\" size=\"7\">|</font>\n",
    "        </td>\n",
    "        <td>\n",
    "            <p style=\"font-variant: small-caps;\"><font color=\"#0030A1\" size=\"5\">\n",
    "                <b>Escuela de Ciencias Físicas y Matemática</b>\n",
    "            </font> </p>\n",
    "            <p style=\"font-variant: small-caps;\"><font color=\"#0030A1\" size=\"4\">\n",
    "                Aprendizaje Automático Inicial &bull; Optmización de Hiperparámetros\n",
    "            </font></p>\n",
    "            <p style=\"font-style: oblique;\"><font color=\"#0030A1\" size=\"3\">\n",
    "                Andrés Merino &bull; 2025-04\n",
    "            </font></p>\n",
    "        </td>  \n",
    "    </tr>\n",
    "</table>"
   ]
  },
  {
   "cell_type": "markdown",
   "metadata": {
    "id": "DVxumcScEJOu"
   },
   "source": [
    "---\n",
    "## <font color='264CC7'> Introducción </font>\n",
    "\n",
    "A lo largo de este taller, aplicaremos optimización de hiperparámetros en un modelo que elijas."
   ]
  },
  {
   "cell_type": "markdown",
   "metadata": {
    "id": "AkOKp5IcEJOv"
   },
   "source": [
    "Los paquetes necesarios son:"
   ]
  },
  {
   "cell_type": "code",
   "execution_count": 1,
   "metadata": {
    "id": "Vn139-yPKzeQ"
   },
   "outputs": [],
   "source": [
    "# Paquetes necesarios\n",
    "import matplotlib.pyplot as plt\n",
    "import seaborn as sns\n",
    "from sklearn.preprocessing import OneHotEncoder, StandardScaler\n",
    "import numpy as np\n",
    "import pandas as pd\n",
    "from sklearn.ensemble import RandomForestClassifier\n",
    "import pandas as pd\n",
    "from sklearn.model_selection import GridSearchCV, KFold, RandomizedSearchCV\n",
    "import joblib\n",
    "from sklearn.ensemble import RandomForestClassifier"
   ]
  },
  {
   "cell_type": "markdown",
   "metadata": {
    "id": "TiFQmJF9EJOz"
   },
   "source": [
    "---\n",
    "## <font color='264CC7'> Clasificación </font>"
   ]
  },
  {
   "cell_type": "markdown",
   "metadata": {
    "id": "OI0gLmZSEJO0"
   },
   "source": [
    "\n",
    "### <font color='264CC7'> Preprocesamiento de datos </font>"
   ]
  },
  {
   "cell_type": "markdown",
   "metadata": {
    "id": "n6jdtDIjEJO0"
   },
   "source": [
    "Primero necesitas el conjunto de datos. Los datos a utilzar son los seleccionados en la clase anterior.\n",
    "\n",
    "<div style=\"background-color: #edf1f8; border-color: #264CC7; border-left: 5px solid #264CC7; padding: 0.5em;\">\n",
    "<strong>Ejercicio:</strong><br>\n",
    "    Carga el conjunto de datos y procésalos:\n",
    "<ul>\n",
    "  <li>Muestra algunos datos.</li>\n",
    "  <li>Muestra una descripción de los datos.</li>\n",
    "  <li>Escala los datos si es necesario.</li>\n",
    "</ul>\n",
    "</div>"
   ]
  },
  {
   "cell_type": "code",
   "execution_count": 2,
   "metadata": {
    "colab": {
     "base_uri": "https://localhost:8080/",
     "height": 244
    },
    "id": "fkFKLUWjEJO2",
    "outputId": "c039e1d4-7e7a-44e2-9a27-c4293c7de070"
   },
   "outputs": [
    {
     "data": {
      "text/html": [
       "<div>\n",
       "<style scoped>\n",
       "    .dataframe tbody tr th:only-of-type {\n",
       "        vertical-align: middle;\n",
       "    }\n",
       "\n",
       "    .dataframe tbody tr th {\n",
       "        vertical-align: top;\n",
       "    }\n",
       "\n",
       "    .dataframe thead th {\n",
       "        text-align: right;\n",
       "    }\n",
       "</style>\n",
       "<table border=\"1\" class=\"dataframe\">\n",
       "  <thead>\n",
       "    <tr style=\"text-align: right;\">\n",
       "      <th></th>\n",
       "      <th>TransactionAmount</th>\n",
       "      <th>TransactionType</th>\n",
       "      <th>Location</th>\n",
       "      <th>DeviceID</th>\n",
       "      <th>MerchantID</th>\n",
       "      <th>Channel</th>\n",
       "      <th>CustomerAge</th>\n",
       "      <th>CustomerOccupation</th>\n",
       "      <th>TransactionDuration</th>\n",
       "      <th>LoginAttempts</th>\n",
       "      <th>AccountBalance</th>\n",
       "      <th>TransactionHour</th>\n",
       "      <th>TransactionWeekday</th>\n",
       "      <th>TransactionDay</th>\n",
       "      <th>TransactionMonth</th>\n",
       "      <th>PreviousTransactionDate</th>\n",
       "    </tr>\n",
       "  </thead>\n",
       "  <tbody>\n",
       "    <tr>\n",
       "      <th>0</th>\n",
       "      <td>14.09</td>\n",
       "      <td>Debit</td>\n",
       "      <td>San Diego</td>\n",
       "      <td>D000380</td>\n",
       "      <td>M015</td>\n",
       "      <td>ATM</td>\n",
       "      <td>70</td>\n",
       "      <td>Doctor</td>\n",
       "      <td>81</td>\n",
       "      <td>1</td>\n",
       "      <td>5112.21</td>\n",
       "      <td>16</td>\n",
       "      <td>1</td>\n",
       "      <td>11</td>\n",
       "      <td>4</td>\n",
       "      <td>2024-11-04 08:08:08</td>\n",
       "    </tr>\n",
       "    <tr>\n",
       "      <th>1</th>\n",
       "      <td>376.24</td>\n",
       "      <td>Debit</td>\n",
       "      <td>Houston</td>\n",
       "      <td>D000051</td>\n",
       "      <td>M052</td>\n",
       "      <td>ATM</td>\n",
       "      <td>68</td>\n",
       "      <td>Doctor</td>\n",
       "      <td>141</td>\n",
       "      <td>1</td>\n",
       "      <td>13758.91</td>\n",
       "      <td>16</td>\n",
       "      <td>1</td>\n",
       "      <td>27</td>\n",
       "      <td>6</td>\n",
       "      <td>2024-11-04 08:09:35</td>\n",
       "    </tr>\n",
       "    <tr>\n",
       "      <th>2</th>\n",
       "      <td>126.29</td>\n",
       "      <td>Debit</td>\n",
       "      <td>Mesa</td>\n",
       "      <td>D000235</td>\n",
       "      <td>M009</td>\n",
       "      <td>Online</td>\n",
       "      <td>19</td>\n",
       "      <td>Student</td>\n",
       "      <td>56</td>\n",
       "      <td>1</td>\n",
       "      <td>1122.35</td>\n",
       "      <td>18</td>\n",
       "      <td>0</td>\n",
       "      <td>10</td>\n",
       "      <td>7</td>\n",
       "      <td>2024-11-04 08:07:04</td>\n",
       "    </tr>\n",
       "    <tr>\n",
       "      <th>3</th>\n",
       "      <td>184.50</td>\n",
       "      <td>Debit</td>\n",
       "      <td>Raleigh</td>\n",
       "      <td>D000187</td>\n",
       "      <td>M002</td>\n",
       "      <td>Online</td>\n",
       "      <td>26</td>\n",
       "      <td>Student</td>\n",
       "      <td>25</td>\n",
       "      <td>1</td>\n",
       "      <td>8569.06</td>\n",
       "      <td>16</td>\n",
       "      <td>4</td>\n",
       "      <td>5</td>\n",
       "      <td>5</td>\n",
       "      <td>2024-11-04 08:09:06</td>\n",
       "    </tr>\n",
       "    <tr>\n",
       "      <th>4</th>\n",
       "      <td>13.45</td>\n",
       "      <td>Credit</td>\n",
       "      <td>Atlanta</td>\n",
       "      <td>D000308</td>\n",
       "      <td>M091</td>\n",
       "      <td>Online</td>\n",
       "      <td>26</td>\n",
       "      <td>Student</td>\n",
       "      <td>198</td>\n",
       "      <td>1</td>\n",
       "      <td>7429.40</td>\n",
       "      <td>17</td>\n",
       "      <td>0</td>\n",
       "      <td>16</td>\n",
       "      <td>10</td>\n",
       "      <td>2024-11-04 08:06:39</td>\n",
       "    </tr>\n",
       "  </tbody>\n",
       "</table>\n",
       "</div>"
      ],
      "text/plain": [
       "   TransactionAmount TransactionType   Location DeviceID MerchantID Channel  \\\n",
       "0              14.09           Debit  San Diego  D000380       M015     ATM   \n",
       "1             376.24           Debit    Houston  D000051       M052     ATM   \n",
       "2             126.29           Debit       Mesa  D000235       M009  Online   \n",
       "3             184.50           Debit    Raleigh  D000187       M002  Online   \n",
       "4              13.45          Credit    Atlanta  D000308       M091  Online   \n",
       "\n",
       "   CustomerAge CustomerOccupation  TransactionDuration  LoginAttempts  \\\n",
       "0           70             Doctor                   81              1   \n",
       "1           68             Doctor                  141              1   \n",
       "2           19            Student                   56              1   \n",
       "3           26            Student                   25              1   \n",
       "4           26            Student                  198              1   \n",
       "\n",
       "   AccountBalance  TransactionHour  TransactionWeekday  TransactionDay  \\\n",
       "0         5112.21               16                   1              11   \n",
       "1        13758.91               16                   1              27   \n",
       "2         1122.35               18                   0              10   \n",
       "3         8569.06               16                   4               5   \n",
       "4         7429.40               17                   0              16   \n",
       "\n",
       "   TransactionMonth PreviousTransactionDate  \n",
       "0                 4     2024-11-04 08:08:08  \n",
       "1                 6     2024-11-04 08:09:35  \n",
       "2                 7     2024-11-04 08:07:04  \n",
       "3                 5     2024-11-04 08:09:06  \n",
       "4                10     2024-11-04 08:06:39  "
      ]
     },
     "execution_count": 2,
     "metadata": {},
     "output_type": "execute_result"
    }
   ],
   "source": [
    "# Cargar el archivo\n",
    "df = pd.read_csv(\"https://raw.githubusercontent.com/niconlvs/ModelosML/refs/heads/main/transacciones.csv\")\n",
    "df.head()"
   ]
  },
  {
   "cell_type": "code",
   "execution_count": 3,
   "metadata": {
    "colab": {
     "base_uri": "https://localhost:8080/",
     "height": 991
    },
    "id": "7xIMqLtJEV13",
    "outputId": "58fcfa53-6c64-4799-895f-c3c2467eba5c"
   },
   "outputs": [
    {
     "name": "stdout",
     "output_type": "stream",
     "text": [
      "🔹 Dimensión del DataFrame: (2512, 16)\n",
      "\n",
      "🔹 Valores Nulos por Columna:\n",
      "\n"
     ]
    },
    {
     "data": {
      "text/plain": [
       "TransactionAmount          0\n",
       "TransactionType            0\n",
       "Location                   0\n",
       "DeviceID                   0\n",
       "MerchantID                 0\n",
       "Channel                    0\n",
       "CustomerAge                0\n",
       "CustomerOccupation         0\n",
       "TransactionDuration        0\n",
       "LoginAttempts              0\n",
       "AccountBalance             0\n",
       "TransactionHour            0\n",
       "TransactionWeekday         0\n",
       "TransactionDay             0\n",
       "TransactionMonth           0\n",
       "PreviousTransactionDate    0\n",
       "dtype: int64"
      ]
     },
     "metadata": {},
     "output_type": "display_data"
    },
    {
     "name": "stdout",
     "output_type": "stream",
     "text": [
      "\n",
      "🔹 Estadísticos Descriptivos:\n",
      "\n"
     ]
    },
    {
     "data": {
      "text/html": [
       "<div>\n",
       "<style scoped>\n",
       "    .dataframe tbody tr th:only-of-type {\n",
       "        vertical-align: middle;\n",
       "    }\n",
       "\n",
       "    .dataframe tbody tr th {\n",
       "        vertical-align: top;\n",
       "    }\n",
       "\n",
       "    .dataframe thead th {\n",
       "        text-align: right;\n",
       "    }\n",
       "</style>\n",
       "<table border=\"1\" class=\"dataframe\">\n",
       "  <thead>\n",
       "    <tr style=\"text-align: right;\">\n",
       "      <th></th>\n",
       "      <th>TransactionAmount</th>\n",
       "      <th>CustomerAge</th>\n",
       "      <th>TransactionDuration</th>\n",
       "      <th>LoginAttempts</th>\n",
       "      <th>AccountBalance</th>\n",
       "      <th>TransactionHour</th>\n",
       "      <th>TransactionWeekday</th>\n",
       "      <th>TransactionDay</th>\n",
       "      <th>TransactionMonth</th>\n",
       "    </tr>\n",
       "  </thead>\n",
       "  <tbody>\n",
       "    <tr>\n",
       "      <th>count</th>\n",
       "      <td>2512.000000</td>\n",
       "      <td>2512.000000</td>\n",
       "      <td>2512.000000</td>\n",
       "      <td>2512.000000</td>\n",
       "      <td>2512.000000</td>\n",
       "      <td>2512.000000</td>\n",
       "      <td>2512.000000</td>\n",
       "      <td>2512.000000</td>\n",
       "      <td>2512.00000</td>\n",
       "    </tr>\n",
       "    <tr>\n",
       "      <th>mean</th>\n",
       "      <td>297.593778</td>\n",
       "      <td>44.673965</td>\n",
       "      <td>119.643312</td>\n",
       "      <td>1.124602</td>\n",
       "      <td>5114.302966</td>\n",
       "      <td>16.626194</td>\n",
       "      <td>1.448248</td>\n",
       "      <td>15.827229</td>\n",
       "      <td>6.56250</td>\n",
       "    </tr>\n",
       "    <tr>\n",
       "      <th>std</th>\n",
       "      <td>291.946243</td>\n",
       "      <td>17.792198</td>\n",
       "      <td>69.963757</td>\n",
       "      <td>0.602662</td>\n",
       "      <td>3900.942499</td>\n",
       "      <td>0.731059</td>\n",
       "      <td>1.511310</td>\n",
       "      <td>8.761293</td>\n",
       "      <td>3.47559</td>\n",
       "    </tr>\n",
       "    <tr>\n",
       "      <th>min</th>\n",
       "      <td>0.260000</td>\n",
       "      <td>18.000000</td>\n",
       "      <td>10.000000</td>\n",
       "      <td>1.000000</td>\n",
       "      <td>101.250000</td>\n",
       "      <td>16.000000</td>\n",
       "      <td>0.000000</td>\n",
       "      <td>1.000000</td>\n",
       "      <td>1.00000</td>\n",
       "    </tr>\n",
       "    <tr>\n",
       "      <th>25%</th>\n",
       "      <td>81.885000</td>\n",
       "      <td>27.000000</td>\n",
       "      <td>63.000000</td>\n",
       "      <td>1.000000</td>\n",
       "      <td>1504.370000</td>\n",
       "      <td>16.000000</td>\n",
       "      <td>0.000000</td>\n",
       "      <td>8.000000</td>\n",
       "      <td>3.00000</td>\n",
       "    </tr>\n",
       "    <tr>\n",
       "      <th>50%</th>\n",
       "      <td>211.140000</td>\n",
       "      <td>45.000000</td>\n",
       "      <td>112.500000</td>\n",
       "      <td>1.000000</td>\n",
       "      <td>4735.510000</td>\n",
       "      <td>16.000000</td>\n",
       "      <td>1.000000</td>\n",
       "      <td>16.000000</td>\n",
       "      <td>7.00000</td>\n",
       "    </tr>\n",
       "    <tr>\n",
       "      <th>75%</th>\n",
       "      <td>414.527500</td>\n",
       "      <td>59.000000</td>\n",
       "      <td>161.000000</td>\n",
       "      <td>1.000000</td>\n",
       "      <td>7678.820000</td>\n",
       "      <td>17.000000</td>\n",
       "      <td>3.000000</td>\n",
       "      <td>24.000000</td>\n",
       "      <td>10.00000</td>\n",
       "    </tr>\n",
       "    <tr>\n",
       "      <th>max</th>\n",
       "      <td>1919.110000</td>\n",
       "      <td>80.000000</td>\n",
       "      <td>300.000000</td>\n",
       "      <td>5.000000</td>\n",
       "      <td>14977.990000</td>\n",
       "      <td>18.000000</td>\n",
       "      <td>4.000000</td>\n",
       "      <td>31.000000</td>\n",
       "      <td>12.00000</td>\n",
       "    </tr>\n",
       "  </tbody>\n",
       "</table>\n",
       "</div>"
      ],
      "text/plain": [
       "       TransactionAmount  CustomerAge  TransactionDuration  LoginAttempts  \\\n",
       "count        2512.000000  2512.000000          2512.000000    2512.000000   \n",
       "mean          297.593778    44.673965           119.643312       1.124602   \n",
       "std           291.946243    17.792198            69.963757       0.602662   \n",
       "min             0.260000    18.000000            10.000000       1.000000   \n",
       "25%            81.885000    27.000000            63.000000       1.000000   \n",
       "50%           211.140000    45.000000           112.500000       1.000000   \n",
       "75%           414.527500    59.000000           161.000000       1.000000   \n",
       "max          1919.110000    80.000000           300.000000       5.000000   \n",
       "\n",
       "       AccountBalance  TransactionHour  TransactionWeekday  TransactionDay  \\\n",
       "count     2512.000000      2512.000000         2512.000000     2512.000000   \n",
       "mean      5114.302966        16.626194            1.448248       15.827229   \n",
       "std       3900.942499         0.731059            1.511310        8.761293   \n",
       "min        101.250000        16.000000            0.000000        1.000000   \n",
       "25%       1504.370000        16.000000            0.000000        8.000000   \n",
       "50%       4735.510000        16.000000            1.000000       16.000000   \n",
       "75%       7678.820000        17.000000            3.000000       24.000000   \n",
       "max      14977.990000        18.000000            4.000000       31.000000   \n",
       "\n",
       "       TransactionMonth  \n",
       "count        2512.00000  \n",
       "mean            6.56250  \n",
       "std             3.47559  \n",
       "min             1.00000  \n",
       "25%             3.00000  \n",
       "50%             7.00000  \n",
       "75%            10.00000  \n",
       "max            12.00000  "
      ]
     },
     "metadata": {},
     "output_type": "display_data"
    }
   ],
   "source": [
    "print(\"🔹 Dimensión del DataFrame:\", df.shape)\n",
    "\n",
    "print(\"\\n🔹 Valores Nulos por Columna:\\n\")\n",
    "display(df.isnull().sum())\n",
    "\n",
    "print(\"\\n🔹 Estadísticos Descriptivos:\\n\")\n",
    "display(df.describe())"
   ]
  },
  {
   "cell_type": "code",
   "execution_count": 4,
   "metadata": {
    "id": "8p6JExxcEYPX"
   },
   "outputs": [],
   "source": [
    "# Definir las columnas a usar\n",
    "numeric_cols = [\n",
    "    'TransactionAmount',\n",
    "    'CustomerAge',\n",
    "    'LoginAttempts',\n",
    "    'AccountBalance',\n",
    "    ]\n",
    "\n",
    "cat_cols = [\n",
    "    'TransactionType',\n",
    "    'Channel'\n",
    "    ]"
   ]
  },
  {
   "cell_type": "code",
   "execution_count": 5,
   "metadata": {
    "colab": {
     "base_uri": "https://localhost:8080/",
     "height": 1000
    },
    "id": "5_RTc95fEaM5",
    "outputId": "1f3dee85-c40f-4965-e00b-fc95e92e6ca1"
   },
   "outputs": [
    {
     "data": {
      "image/png": "[encoded data removed]",
      "text/plain": [
       "<Figure size 600x400 with 1 Axes>"
      ]
     },
     "metadata": {},
     "output_type": "display_data"
    },
    {
     "data": {
      "image/png": "[encoded data removed]",
      "text/plain": [
       "<Figure size 600x400 with 1 Axes>"
      ]
     },
     "metadata": {},
     "output_type": "display_data"
    },
    {
     "data": {
      "image/png": "[encoded data removed]",
      "text/plain": [
       "<Figure size 600x400 with 1 Axes>"
      ]
     },
     "metadata": {},
     "output_type": "display_data"
    },
    {
     "data": {
      "image/png": "[encoded data removed]",
      "text/plain": [
       "<Figure size 600x400 with 1 Axes>"
      ]
     },
     "metadata": {},
     "output_type": "display_data"
    }
   ],
   "source": [
    "# Estilo bonito para los gráficos\n",
    "sns.set(style=\"whitegrid\")\n",
    "\n",
    "# Crear un histograma para cada columna numérica\n",
    "for col in numeric_cols:\n",
    "    plt.figure(figsize=(6, 4))\n",
    "    sns.histplot(df[col], kde=True, bins=30, color='skyblue')\n",
    "    plt.title(f'Distribución de {col}')\n",
    "    plt.xlabel(col)\n",
    "    plt.ylabel('Frecuencia')\n",
    "    plt.tight_layout()\n",
    "    plt.show()"
   ]
  },
  {
   "cell_type": "code",
   "execution_count": 6,
   "metadata": {
    "colab": {
     "base_uri": "https://localhost:8080/",
     "height": 683
    },
    "id": "05LYjfmYEa4n",
    "outputId": "3c5c431e-5c7a-426d-ba31-2786edbddd10"
   },
   "outputs": [
    {
     "name": "stderr",
     "output_type": "stream",
     "text": [
      "C:\\Users\\user\\AppData\\Local\\Temp\\ipykernel_2556\\2167371631.py:6: FutureWarning: \n",
      "\n",
      "Passing `palette` without assigning `hue` is deprecated and will be removed in v0.14.0. Assign the `x` variable to `hue` and set `legend=False` for the same effect.\n",
      "\n",
      "  sns.countplot(data=df, x=col, palette='pastel', edgecolor='black')\n",
      "C:\\Users\\user\\AppData\\Local\\Temp\\ipykernel_2556\\2167371631.py:6: FutureWarning: \n",
      "\n",
      "Passing `palette` without assigning `hue` is deprecated and will be removed in v0.14.0. Assign the `x` variable to `hue` and set `legend=False` for the same effect.\n",
      "\n",
      "  sns.countplot(data=df, x=col, palette='pastel', edgecolor='black')\n"
     ]
    },
    {
     "data": {
      "image/png": "[encoded data removed]",
      "text/plain": [
       "<Figure size 1500x500 with 2 Axes>"
      ]
     },
     "metadata": {},
     "output_type": "display_data"
    }
   ],
   "source": [
    "# Crear subplots\n",
    "plt.figure(figsize=(15, 5))\n",
    "\n",
    "for i, col in enumerate(cat_cols, 1):\n",
    "    plt.subplot(1, 3, i)\n",
    "    sns.countplot(data=df, x=col, palette='pastel', edgecolor='black')\n",
    "    plt.title(f\"Frecuencia de {col}\")\n",
    "    plt.xlabel(col)\n",
    "    plt.ylabel(\"Frecuencia\")\n",
    "    plt.xticks(rotation=45)\n",
    "\n",
    "plt.suptitle(\"Distribución de Variables Categóricas Seleccionadas\", fontsize=16)\n",
    "plt.tight_layout()\n",
    "plt.show()"
   ]
  },
  {
   "cell_type": "markdown",
   "metadata": {
    "id": "siKdv3_yEJO3"
   },
   "source": []
  },
  {
   "cell_type": "code",
   "execution_count": 7,
   "metadata": {
    "id": "erkLppu-E4A3"
   },
   "outputs": [],
   "source": [
    "#eL DecisionTreeClassifier de scikit-learn no puede manejar texto sin procesar. Necesita que todas las variables independientes (X) sean numéricas.\n",
    "df_encoded = pd.get_dummies(df, columns=['TransactionType', 'Channel'], drop_first=True)"
   ]
  },
  {
   "cell_type": "markdown",
   "metadata": {
    "id": "tHFLpcg8EJO4"
   },
   "source": [
    "\n",
    "### <font color='264CC7'> Modelo </font>\n"
   ]
  },
  {
   "cell_type": "markdown",
   "metadata": {
    "id": "XSNfhlx1EJO4"
   },
   "source": [
    "<div style=\"background-color: #edf1f8; border-color: #264CC7; border-left: 5px solid #264CC7; padding: 0.5em;\">\n",
    "<strong>Ejercicio:</strong><br>\n",
    "    Selecciona el mejor modelo de las clases anteriores.\n",
    "<ul>\n",
    "  <li>Muestra los hiperparámetros del modelo.</li>\n",
    "  <li>Consulta qué significan al menos 4 hiperparámetros.</li>\n",
    "  <li>Selecciona los hiperparámetros que deseas optimizar, al menos 3.</li>\n",
    "</ul>\n",
    "</div>"
   ]
  },
  {
   "cell_type": "markdown",
   "metadata": {
    "id": "DyXUQwFEGGnc"
   },
   "source": [
    "**Modelo elegido:** `RandomForestClassifier`"
   ]
  },
  {
   "cell_type": "markdown",
   "metadata": {
    "id": "rFdj3VNbFtZ0"
   },
   "source": [
    "#### <font color='264CC7'> Hiperparámetros del modelo </font>\n"
   ]
  },
  {
   "cell_type": "code",
   "execution_count": 8,
   "metadata": {
    "colab": {
     "base_uri": "https://localhost:8080/",
     "height": 697
    },
    "id": "6NH0yTwBGL0c",
    "outputId": "7b53af61-ae79-46b7-e4e7-bf1f77475c5f"
   },
   "outputs": [
    {
     "name": "stdout",
     "output_type": "stream",
     "text": [
      " Hiperparámetros por defecto del modelo:\n"
     ]
    },
    {
     "data": {
      "text/plain": [
       "bootstrap                    True\n",
       "ccp_alpha                     0.0\n",
       "class_weight                 None\n",
       "criterion                    gini\n",
       "max_depth                    None\n",
       "max_features                 sqrt\n",
       "max_leaf_nodes               None\n",
       "max_samples                  None\n",
       "min_impurity_decrease         0.0\n",
       "min_samples_leaf                1\n",
       "min_samples_split               2\n",
       "min_weight_fraction_leaf      0.0\n",
       "monotonic_cst                None\n",
       "n_estimators                  100\n",
       "n_jobs                       None\n",
       "oob_score                   False\n",
       "random_state                   42\n",
       "verbose                         0\n",
       "warm_start                  False\n",
       "dtype: object"
      ]
     },
     "metadata": {},
     "output_type": "display_data"
    }
   ],
   "source": [
    "# Modelo base\n",
    "rf_clf = RandomForestClassifier(random_state=42)\n",
    "\n",
    "# Mostrar todos los hiperparámetros por defecto\n",
    "print(\" Hiperparámetros por defecto del modelo:\")\n",
    "display(pd.Series(rf_clf.get_params()).sort_index())"
   ]
  },
  {
   "cell_type": "markdown",
   "metadata": {
    "id": "5JSQVbWOFzGU"
   },
   "source": [
    "#### <font color='264CC7'> Qué hacen los hiperparámetros del modelo </font>\n"
   ]
  },
  {
   "cell_type": "markdown",
   "metadata": {
    "id": "QpMe9odeFZiH"
   },
   "source": [
    "**Hiperparámetros clave (4 explicados):**\n",
    "\n",
    "| Hiperparámetro | Qué hace | Impacto principal |\n",
    "| -------------- | -------- | ----------------- |\n",
    "| `n_estimators` | Nº de árboles en el bosque. | ↑ árboles → ↓ varianza (mejor generalización) pero ↑ tiempo de entrenamiento. |\n",
    "| `max_depth` | Profundidad máxima permitida para cada árbol. | Limitarla previene _overfitting_; `None` deja que el árbol crezca hasta agotar muestras. |\n",
    "| `min_samples_split` | Mínimo de observaciones que debe tener un nodo para dividirse. | Valores mayores suavizan el modelo y reducen _overfitting_. |\n",
    "| `max_features` | Nº de variables candidatas para cada división. | Controla la aleatoriedad / diversidad entre árboles; típicamente `\"sqrt\"` para clasificación. |\n",
    "\n",
    "**Hiperparámetros que voy a optimizar:**  \n",
    "`n_estimators`, `max_depth`, `min_samples_split`.\n"
   ]
  },
  {
   "cell_type": "markdown",
   "metadata": {
    "id": "b3qxwLlgF6hr"
   },
   "source": [
    "#### <font color='264CC7'> Selección de hiperparámetros del modelo </font>\n"
   ]
  },
  {
   "cell_type": "code",
   "execution_count": 9,
   "metadata": {
    "colab": {
     "base_uri": "https://localhost:8080/"
    },
    "id": "fjiatpZrEJO5",
    "outputId": "d671e637-e0b3-439a-e7c4-e9f8ceead7c0"
   },
   "outputs": [
    {
     "name": "stdout",
     "output_type": "stream",
     "text": [
      "\n",
      " Hiperparámetros elegidos para optimización:\n",
      "  • n_estimators: [100, 200, 500]\n",
      "  • max_depth: [None, 10, 20, 30]\n",
      "  • min_samples_split: [2, 5, 10]\n"
     ]
    }
   ],
   "source": [
    "# Definir los hiperparámetros que vamos a optimizar\n",
    "param_grid = {\n",
    "    \"n_estimators\":     [100, 200, 500],   # Nº de árboles\n",
    "    \"max_depth\":        [None, 10, 20, 30],# Profundidad máxima\n",
    "    \"min_samples_split\":[2, 5, 10]         # Muestras mínimas para dividir nodo\n",
    "}\n",
    "\n",
    "print(\"\\n Hiperparámetros elegidos para optimización:\")\n",
    "for k, v in param_grid.items():\n",
    "    print(f\"  • {k}: {v}\")\n"
   ]
  },
  {
   "cell_type": "markdown",
   "metadata": {
    "id": "RgbQeJyEEJO6"
   },
   "source": [
    "### <font color='264CC7'> Optimización por GridSearch </font>"
   ]
  },
  {
   "cell_type": "markdown",
   "metadata": {
    "id": "euIGNZ3ZEJO7"
   },
   "source": [
    "<div style=\"background-color: #edf1f8; border-color: #264CC7; border-left: 5px solid #264CC7; padding: 0.5em;\">\n",
    "<strong>Ejercicio:</strong><br>\n",
    "    Aplica GridSearch para optimizar los hiperparámetros del modelo.\n",
    "<ul>\n",
    "  <li>Para cada hiperparámetro, selecciona al menos 3 valores, si es posible.</li>\n",
    "  <li>Utiliza al menos 5 validaciones cruzadas.</li>\n",
    "  <li>Muestra los parámetros óptimos y su score.</li>\n",
    "</ul>\n",
    "</div>"
   ]
  },
  {
   "cell_type": "code",
   "execution_count": 10,
   "metadata": {
    "colab": {
     "base_uri": "https://localhost:8080/"
    },
    "id": "cRd5P1DzEJO7",
    "outputId": "0c0a558d-cd96-4a3d-d6c1-3c4612e40ae8"
   },
   "outputs": [
    {
     "name": "stdout",
     "output_type": "stream",
     "text": [
      "Fitting 5 folds for each of 36 candidates, totalling 180 fits\n",
      "Mejores parámetros encontrados:\n",
      "{'max_depth': 10, 'min_samples_split': 10, 'n_estimators': 500}\n",
      "Mejor score (accuracy): 0.8053\n"
     ]
    }
   ],
   "source": [
    "# Definir X e y para RandomForest\n",
    "x = df_encoded[['TransactionAmount', 'CustomerAge', 'LoginAttempts', 'AccountBalance'] +\n",
    "               [c for c in df_encoded.columns\n",
    "                if c.startswith('TransactionType_') or c.startswith('Channel_')]]\n",
    "y = df['CustomerOccupation']\n",
    "\n",
    "# Crear un objeto KFold para 5 folds\n",
    "kf = KFold(n_splits=5, shuffle=True, random_state=42)\n",
    "\n",
    "# Configurar GridSearchCV usando KFold\n",
    "grid_search = GridSearchCV(\n",
    "    estimator=rf_clf,\n",
    "    param_grid=param_grid,   # cada parámetro tiene al menos 3 valores\n",
    "    cv=kf,                   # usa KFold con 5 validaciones cruzadas\n",
    "    scoring='accuracy',\n",
    "    n_jobs=-1,\n",
    "    verbose=1\n",
    ")\n",
    "\n",
    "# Ejecutar la búsqueda\n",
    "grid_search.fit(x, y)\n",
    "\n",
    "# 5) Mostrar resultados óptimos\n",
    "print(\"Mejores parámetros encontrados:\")\n",
    "print(grid_search.best_params_)\n",
    "print(f\"Mejor score (accuracy): {grid_search.best_score_:.4f}\")\n"
   ]
  },
  {
   "cell_type": "markdown",
   "metadata": {
    "id": "4HwZOd1LEJO9"
   },
   "source": [
    "### <font color='264CC7'> Optimización por RandomSearch </font>"
   ]
  },
  {
   "cell_type": "markdown",
   "metadata": {
    "id": "dArqTohjEJO9"
   },
   "source": [
    "<div style=\"background-color: #edf1f8; border-color: #264CC7; border-left: 5px solid #264CC7; padding: 0.5em;\">\n",
    "<strong>Ejercicio:</strong><br>\n",
    "    Aplica RandomSearch para optimizar los hiperparámetros del modelo.\n",
    "<ul>\n",
    "  <li>Para cada hiperparámetro, selecciona al menos 5 valores, si es posible.</li>\n",
    "  <li>Utiliza al menos 5 validaciones cruzadas.</li>\n",
    "  <li>Usa RandomSearchCV con 25 iteraciones.</li>\n",
    "  <li>Muestra los parámetros óptimos y su score.</li>\n",
    "</ul>\n",
    "</div>"
   ]
  },
  {
   "cell_type": "code",
   "execution_count": 11,
   "metadata": {
    "colab": {
     "base_uri": "https://localhost:8080/"
    },
    "id": "vu4kz6wAEJO-",
    "outputId": "db757e47-4d3a-47dc-b4a6-30408381fa97"
   },
   "outputs": [
    {
     "name": "stdout",
     "output_type": "stream",
     "text": [
      "Fitting 5 folds for each of 25 candidates, totalling 125 fits\n",
      "Mejores parámetros encontrados (RandomizedSearchCV):\n",
      "{'n_estimators': 100, 'min_samples_split': 15, 'max_depth': 10}\n",
      "Mejor score (accuracy): 0.8057\n"
     ]
    }
   ],
   "source": [
    "# Definimos el espacio de búsqueda con ≥5 valores por hiperparámetro\n",
    "param_dist = {\n",
    "    'n_estimators':     [100, 200, 500, 800, 1000],\n",
    "    'max_depth':        [None, 10, 20, 30, 40, 50],\n",
    "    'min_samples_split':[2, 5, 10, 15, 20, 25]\n",
    "}\n",
    "\n",
    "# Configuramos RandomizedSearchCV\n",
    "random_search = RandomizedSearchCV(\n",
    "    estimator=rf_clf,\n",
    "    param_distributions=param_dist,\n",
    "    n_iter=25,        # 25 iteraciones\n",
    "    cv=kf,            # 5 folds definidos antes\n",
    "    scoring='accuracy',\n",
    "    random_state=42,\n",
    "    n_jobs=-1,\n",
    "    verbose=1\n",
    ")\n",
    "\n",
    "# Ejecutamos la búsqueda aleatoria\n",
    "random_search.fit(x, y)\n",
    "\n",
    "# Mostramos resultados óptimos\n",
    "print(\"Mejores parámetros encontrados (RandomizedSearchCV):\")\n",
    "print(random_search.best_params_)\n",
    "print(f\"Mejor score (accuracy): {random_search.best_score_:.4f}\")\n"
   ]
  },
  {
   "cell_type": "markdown",
   "metadata": {
    "id": "MYNoyaRjEJO_"
   },
   "source": [
    "### <font color='264CC7'> Guardado de modelo </font>"
   ]
  },
  {
   "cell_type": "markdown",
   "metadata": {
    "id": "DUkDahatEJPA"
   },
   "source": [
    "<div style=\"background-color: #edf1f8; border-color: #264CC7; border-left: 5px solid #264CC7; padding: 0.5em;\">\n",
    "<strong>Ejercicio:</strong><br>\n",
    "  Con los parámetros óptimos que mejor resultado dieron, reentrena el modelo, muestra su score y guárdalo.\n",
    "</div>"
   ]
  },
  {
   "cell_type": "code",
   "execution_count": 12,
   "metadata": {
    "colab": {
     "base_uri": "https://localhost:8080/"
    },
    "id": "1UTPocKBKk0v",
    "outputId": "8f4806c2-e4ca-455b-f7da-f718b99f0452"
   },
   "outputs": [
    {
     "name": "stdout",
     "output_type": "stream",
     "text": [
      "Score del modelo final (accuracy) en todo el conjunto: 0.8599\n",
      "Modelo serializado guardado como 'random_forest_final_model.pkl'\n"
     ]
    }
   ],
   "source": [
    "# Parámetros óptimos (RandomizedSearchCV)\n",
    "best_params = {'n_estimators': 100, 'min_samples_split': 15, 'max_depth': 10}\n",
    "\n",
    "# Instanciar el modelo con los mejores parámetros\n",
    "final_model = RandomForestClassifier(\n",
    "    n_estimators=best_params['n_estimators'],\n",
    "    min_samples_split=best_params['min_samples_split'],\n",
    "    max_depth=best_params['max_depth'],\n",
    "    random_state=42\n",
    ")\n",
    "\n",
    "# Reentrenar en todo el conjunto\n",
    "final_model.fit(x, y)\n",
    "\n",
    "# Evaluar y mostrar score\n",
    "final_score = final_model.score(x, y)\n",
    "print(f\"Score del modelo final (accuracy) en todo el conjunto: {final_score:.4f}\")\n",
    "\n",
    "# Guardar el modelo serializado\n",
    "joblib.dump(final_model, 'random_forest_final_model.pkl')\n",
    "print(\"Modelo serializado guardado como 'random_forest_final_model.pkl'\")"
   ]
  },
  {
   "cell_type": "markdown",
   "metadata": {
    "id": "Qsj1VIxxEJPB"
   },
   "source": [
    "### <font color='264CC7'> Publicación </font>"
   ]
  },
  {
   "cell_type": "markdown",
   "metadata": {
    "id": "MjExOinpEJPC"
   },
   "source": [
    "<div style=\"background-color: #edf1f8; border-color: #264CC7; border-left: 5px solid #264CC7; padding: 0.5em;\">\n",
    "<strong>Ejercicio:</strong><br>\n",
    "  Coloca el este cuaderno y el modelo en tu repositorio de GitHub. Agrega una licencia MIT y un README.md donde se explique el contenido del repositorio, los datos utilizados y los resultados obtenidos.\n",
    "</div>"
   ]
  }
 ],
 "metadata": {
  "colab": {
   "provenance": []
  },
  "kernelspec": {
   "display_name": "Python 3 (ipykernel)",
   "language": "python",
   "name": "python3"
  },
  "language_info": {
   "codemirror_mode": {
    "name": "ipython",
    "version": 3
   },
   "file_extension": ".py",
   "mimetype": "text/x-python",
   "name": "python",
   "nbconvert_exporter": "python",
   "pygments_lexer": "ipython3",
   "version": "3.13.1"
  }
 },
 "nbformat": 4,
 "nbformat_minor": 4
}
